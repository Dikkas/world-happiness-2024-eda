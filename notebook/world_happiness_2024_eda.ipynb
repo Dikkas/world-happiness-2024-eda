{
  "nbformat": 4,
  "nbformat_minor": 0,
  "metadata": {
    "colab": {
      "provenance": []
    },
    "kernelspec": {
      "name": "python3",
      "display_name": "Python 3"
    },
    "language_info": {
      "name": "python"
    }
  },
  "cells": [
    {
      "cell_type": "markdown",
      "source": [
        "# World Happiness Report 2024 — Exploratory Data Analysis (Cross-Sectional)\n",
        "\n",
        "This project performs a focused Exploratory Data Analysis (EDA) on the 2024 edition of the World Happiness Report (single-year cut from the 2015–2024 Kaggle dataset). The goal is to understand how key explanatory factors (e.g., GDP per capita, social support, healthy life expectancy, freedom, generosity, perceptions of corruption) relate to national happiness levels in 2024. The analysis emphasizes data quality checks, descriptive statistics, and clear visual storytelling.\n",
        "\n",
        "#### **Objectives**\n",
        "- Describe the distribution of happiness scores across countries in 2024.\n",
        "- Compare regions/continents through group statistics and visualizations.\n",
        "- Examine pairwise relationships between the happiness score and its explanatory factors.\n",
        "\n",
        "#### **Information**\n",
        "**Dataset:** *World Happiness 2015–2024* (filtered to 2024) — Kaggle (yadiraespinoza)  \n",
        "**Author:** Paulo Castro  \n",
        "**Date:** August 2025  \n",
        "**Tools:** Python (pandas, matplotlib, seaborn)\n",
        "\n",
        "\n",
        "---"
      ],
      "metadata": {
        "id": "5lFAEpYsR28E"
      }
    },
    {
      "cell_type": "markdown",
      "source": [
        "## 1. Load and Inspect Data\n",
        "\n",
        "In this section, we will:\n",
        "- Load the dataset into a Pandas DataFrame.\n",
        "- Check the shape (number of rows and columns) to understand the dataset's size.\n",
        "- Display the first few rows to inspect the raw data.\n",
        "- Examine the data types and missing values.\n",
        "- Generate a statistical summary for numeric columns to get an initial overview.\n",
        "\n",
        "> **Note:** This section prepares the dataset for further cleaning, exploration, and visualization in later steps.\n"
      ],
      "metadata": {
        "id": "tX70JW6VSZpy"
      }
    },
    {
      "cell_type": "markdown",
      "source": [
        "Imports the main Python libraries for data manipulation (pandas, numpy) and visualization (matplotlib, seaborn) and sets a consistent and readable style for all plots, including size, gridlines, font sizes, and Seaborn aesthetics."
      ],
      "metadata": {
        "id": "EGUeaZSgUk-e"
      }
    },
    {
      "cell_type": "code",
      "source": [
        "# Core libraries for data manipulation and visualization\n",
        "import pandas as pd\n",
        "import numpy as np\n",
        "import matplotlib.pyplot as plt\n",
        "import seaborn as sns\n",
        "\n",
        "# --- Visualization configuration ---\n",
        "plt.rcParams.update({\n",
        "    \"figure.figsize\": (10, 6),\n",
        "    \"axes.grid\": True,\n",
        "    \"grid.alpha\": 0.1,\n",
        "    \"axes.titlesize\": 14,\n",
        "    \"axes.labelsize\": 12,\n",
        "    \"xtick.labelsize\": 10,\n",
        "    \"ytick.labelsize\": 10\n",
        "})\n",
        "\n",
        "sns.set_context(\"notebook\")"
      ],
      "metadata": {
        "id": "P_A5VMdjR75o"
      },
      "execution_count": null,
      "outputs": []
    },
    {
      "cell_type": "markdown",
      "source": [
        "Loads the CSV file into a Pandas DataFrame with proper separator and decimal format. Ensures numbers are correctly interpreted.\n"
      ],
      "metadata": {
        "id": "5uRTVR5wU6uv"
      }
    },
    {
      "cell_type": "code",
      "source": [
        "path = \"../content/world_happiness_2024.csv\"\n",
        "\n",
        "df_raw = pd.read_csv(path, sep=\";\", decimal=\",\")"
      ],
      "metadata": {
        "id": "7iCwN9dlTCVO"
      },
      "execution_count": null,
      "outputs": []
    },
    {
      "cell_type": "markdown",
      "source": [
        "### 1.1 Dataset Overview"
      ],
      "metadata": {
        "id": "kumBMmMMgG7w"
      }
    },
    {
      "cell_type": "code",
      "source": [
        "# 1. Basic information about the dataset\n",
        "print(\"Dataset Shape (rows, columns):\", df_raw.shape)"
      ],
      "metadata": {
        "id": "nXH1sW4NKG8X"
      },
      "execution_count": null,
      "outputs": []
    },
    {
      "cell_type": "markdown",
      "source": [
        "- **Rows and Columns:** The dataset contains 140 rows and 10 columns.  \n",
        "- **Countries Represented:** Each row corresponds to a unique country, totaling 140 countries.  \n",
        "- **Missing Countries:** Out of the 195 countries recognized by the UN, 55 countries are not included in this dataset.\n",
        "\n",
        "> **Note:** This overview helps understand the scope of the data, highlighting that some countries are missing. This may affect analyses that assume global coverage."
      ],
      "metadata": {
        "id": "gWZ-mFRCYoTX"
      }
    },
    {
      "cell_type": "markdown",
      "source": [
        "### 1.2 Data Snapshot"
      ],
      "metadata": {
        "id": "tE-f1Oc3gLfr"
      }
    },
    {
      "cell_type": "code",
      "source": [
        "# 2. Preview Raw Data\n",
        "display(df_raw.head(10))"
      ],
      "metadata": {
        "id": "UoLWCHsdWIxL"
      },
      "execution_count": null,
      "outputs": []
    },
    {
      "cell_type": "markdown",
      "source": [
        "The first few rows of the dataset provide an initial glimpse into the structure and types of data:\n",
        "\n",
        "- **Categorical Columns:**\n",
        "  - `Country`: Name of the country.\n",
        "  - `Regional indicator`: Region or group the country belongs to.\n",
        "\n",
        "- **Numerical Columns:**\n",
        "  - **Integers:**\n",
        "    - `Ranking`: Overall happiness rank (1 = happiest).\n",
        "    - `Healthy life expectancy`: Life expectancy in years.\n",
        "  - **Decimals:**\n",
        "    - `Ladder score`: Overall score between 0 and 10, determines the ranking.\n",
        "    - `GDP per capita`: Economic output per person.\n",
        "    - **Percentages / Indexes (0–1 scale):**\n",
        "      - `Social support`\n",
        "      - `Freedom to make life choices`\n",
        "      - `Generosity`\n",
        "      - `Perceptions of corruption`\n",
        "\n",
        "> **Note:** Understanding the column types is crucial for proper cleaning, analysis, and visualization."
      ],
      "metadata": {
        "id": "4UcJiWlnbCJR"
      }
    },
    {
      "cell_type": "markdown",
      "source": [
        "### 1.3 Data Information"
      ],
      "metadata": {
        "id": "cCLnGBQGgUez"
      }
    },
    {
      "cell_type": "code",
      "source": [
        "# 3. Data types and non-null counts\n",
        "print(\"\\nData Types and Non-Null Values:\")\n",
        "df_raw.info()"
      ],
      "metadata": {
        "id": "1nC2lDPrVjQ-"
      },
      "execution_count": null,
      "outputs": []
    },
    {
      "cell_type": "markdown",
      "source": [
        "The dataset contains **140 rows and 10 columns**, with **no missing values**.\n",
        "\n",
        "**Column types:**\n",
        "- `Ranking` and `Healthy life expectancy`: `int64` (integer)\n",
        "- `Country` and `Regional indicator`: `object` (categorical)\n",
        "- `Ladder score`, `GDP per capita`, `Social support`, `Freedom to make life choices`, `Generosity`, `Perceptions of corruption`: `float64` (decimal)\n",
        "\n",
        "> **Note:** The data types are consistent with the initial head inspection, so no type conversions are required."
      ],
      "metadata": {
        "id": "PGdT3gPUb3CN"
      }
    },
    {
      "cell_type": "markdown",
      "source": [
        "### 1.4 Statistical Summary of Numeric Columns"
      ],
      "metadata": {
        "id": "rWaD3T0sgWgC"
      }
    },
    {
      "cell_type": "code",
      "source": [
        "# 4. Statistical summary for numeric columns\n",
        "print(\"\\nStatistical Summary for Numeric Columns:\")\n",
        "display(df_raw.describe().T)\n"
      ],
      "metadata": {
        "id": "zLB1BlNSVlDV"
      },
      "execution_count": null,
      "outputs": []
    },
    {
      "cell_type": "markdown",
      "source": [
        "**Key observations:**\n",
        "\n",
        "- All numeric columns contain **140 values**, confirming that there are no missing entries.\n",
        "- The `Ranking` column spans the full range from 1 to 140, reflecting the position of countries by their Ladder Score.\n",
        "- The `Ladder score` varies from 1.72 to 7.74, with a mean of 5.53, showing that most countries cluster around the mid-range.\n",
        "- Columns like `Social support`, `Freedom to make life choices`, `Generosity`, and `Perceptions of corruption` are expressed as percentages between 0 and 1.\n",
        "- `GDP per capita` and `Ladder score` highlight economic and well-being differences among countries.\n",
        "- The standard deviation values indicate the variability within each feature, while quartiles (25%, 50%, 75%) show how most countries are distributed around the median.\n",
        "- Min and max values help identify potential outliers or exceptional cases that can be further explored in the EDA section."
      ],
      "metadata": {
        "id": "t90yqASDdv5a"
      }
    },
    {
      "cell_type": "markdown",
      "source": [
        "## 2. Data Cleaning and Preparation\n",
        "\n",
        "In this section, we will:\n",
        "- Identify and handle missing or inconsistent data (if any).\n",
        "- Check for duplicates.\n",
        "- Optimize categorical columns.\n",
        "- Standardize column names for consistency.\n",
        "- Create any additional columns that may be useful for analysis.\n",
        "- Prepare the dataset for exploratory data analysis (EDA).\n",
        "\n",
        "> **Note**: This step ensures that the dataset is clean, consistent, and ready for meaningful visualizations and analysis."
      ],
      "metadata": {
        "id": "JN0yUmtEij-A"
      }
    },
    {
      "cell_type": "markdown",
      "source": [
        "### 2.1 Checking for Missing Values\n",
        "\n",
        "Although the initial inspection showed no missing values, it's good practice to confirm this for all columns."
      ],
      "metadata": {
        "id": "a_hu5vdJi5cY"
      }
    },
    {
      "cell_type": "code",
      "source": [
        "# Check for missing values\n",
        "missing_values = df_raw.isnull().sum()\n",
        "print(\"\\nMissing Values:\")\n",
        "missing_values"
      ],
      "metadata": {
        "collapsed": true,
        "id": "idSIN9gli8oq"
      },
      "execution_count": null,
      "outputs": []
    },
    {
      "cell_type": "markdown",
      "source": [
        "- All columns have 0 missing values, confirming that no imputation is necessary.\n",
        "- The dataset is complete, which simplifies the cleaning process."
      ],
      "metadata": {
        "id": "UhGnDZE_i-Yg"
      }
    },
    {
      "cell_type": "markdown",
      "source": [
        "### 2.2 Checking for Duplicates\n",
        "\n",
        "Duplicate rows can distort analysis and statistics, so we check for them."
      ],
      "metadata": {
        "id": "UOkDs40mjcZ_"
      }
    },
    {
      "cell_type": "code",
      "source": [
        "# Check for duplicate rows\n",
        "duplicates = df_raw.duplicated().sum()\n",
        "print(\"\\nDuplicates:\", duplicates)"
      ],
      "metadata": {
        "id": "0krp-HqvjiyK"
      },
      "execution_count": null,
      "outputs": []
    },
    {
      "cell_type": "markdown",
      "source": [
        "- The dataset contains 0 duplicate rows, indicating unique entries for each country.\n",
        "- No removal or deduplication is needed."
      ],
      "metadata": {
        "id": "XZJ0ththjfEU"
      }
    },
    {
      "cell_type": "markdown",
      "source": [
        "### 2.3 Optimizing Categorical Columns\n",
        "To improve memory efficiency and speed up future processing, we convert all object-type columns with 20 or fewer unique values to the category data type."
      ],
      "metadata": {
        "id": "P0CHLtYXn3Br"
      }
    },
    {
      "cell_type": "code",
      "source": [
        "# Identify object columns with ≤20 unique values\n",
        "cols_cat = df_raw.select_dtypes(include='object').nunique().sort_values()\n",
        "cols_cat = cols_cat[cols_cat <= 20].index.tolist()\n",
        "print(\"\\nColumns that will be optimized:\", cols_cat)\n",
        "\n",
        "df_raw[cols_cat] = df_raw[cols_cat].astype('category')\n",
        "df_raw[cols_cat].dtypes"
      ],
      "metadata": {
        "id": "S-OqlZn2n4WG"
      },
      "execution_count": null,
      "outputs": []
    },
    {
      "cell_type": "markdown",
      "source": [
        "- Converted `Regional indicator` to `category` to improve memory and processing efficiency.\n",
        "- `Country` kept as object, since each value is unique and it represents a real-world entity rather than a category.\n",
        "\n",
        "> **Note**: Optimizing categorical columns is important when working with large datasets to reduce memory usage and improve performance."
      ],
      "metadata": {
        "id": "zdc6IGTIphf1"
      }
    },
    {
      "cell_type": "markdown",
      "source": [
        "### 2.4 Standardizing Column Names\n",
        "\n",
        "Consistent column names improve readability and prevent errors in analysis."
      ],
      "metadata": {
        "id": "RawIz2-Hj0-f"
      }
    },
    {
      "cell_type": "code",
      "source": [
        "# Standardize column names: lowercase, replace spaces with underscores\n",
        "df_clean = df_raw.copy()\n",
        "df_clean.columns = df_clean.columns.str.strip().str.lower().str.replace(' ', '_')\n",
        "print(\"\\nStandarized Column Names:\\n\")\n",
        "df_clean.columns"
      ],
      "metadata": {
        "id": "uON-S7XNj3x7"
      },
      "execution_count": null,
      "outputs": []
    },
    {
      "cell_type": "markdown",
      "source": [
        "- All column names are now lowercase and use underscores (_) instead of spaces.\n",
        "- This standardization ensures compatibility with Python syntax and avoids typos during analysis."
      ],
      "metadata": {
        "id": "6jhZoRNOj5fe"
      }
    },
    {
      "cell_type": "markdown",
      "source": [
        "### 2.5 Creating Additional Columns\n",
        "\n",
        "For visualization or categorical comparisons, we create a `ladder_score_category` with an odd number of levels. This allows a balanced distribution with a central “Medium” group."
      ],
      "metadata": {
        "id": "-Iqw53SykEok"
      }
    },
    {
      "cell_type": "code",
      "source": [
        "# Define bins and labels for Ladder Score categories\n",
        "bins = [0, 2, 4, 6, 8, 10]\n",
        "labels = ['Very Low', 'Low', 'Medium', 'High', 'Very High']\n",
        "\n",
        "# Create a new categorical column\n",
        "df_clean['ladder_score_category'] = pd.cut(df_clean['ladder_score'], bins=bins, labels=labels, ordered=True)\n",
        "\n",
        "# Preview the new column\n",
        "df_clean[['country', 'ladder_score', 'ladder_score_category']].head(10)"
      ],
      "metadata": {
        "id": "9sgRgbpNkEAu"
      },
      "execution_count": null,
      "outputs": []
    },
    {
      "cell_type": "markdown",
      "source": [
        "- `ladder_score_category`: Groups countries into five qualitative levels of happiness.\n",
        "- Useful for categorical aggregation, comparisons, and visualizations.\n",
        "- **Design choice**: Odd number of categories ensures symmetry with a central “Medium” group.\n",
        "\n",
        "> **Note**: This categorical ladder score can be used for comparative visualizations, such as counting countries per happiness level or analyzing distributions by region."
      ],
      "metadata": {
        "id": "Fp-CP2_3kiG6"
      }
    },
    {
      "cell_type": "markdown",
      "source": [
        "### 2.6 Dataset Check"
      ],
      "metadata": {
        "id": "mGz4LmXWk0kV"
      }
    },
    {
      "cell_type": "code",
      "source": [
        "# Quick overview after cleaning\n",
        "df_clean.info()\n",
        "print(\"\\n\")\n",
        "df_clean.head()"
      ],
      "metadata": {
        "id": "jNiFFcOhk5Ka"
      },
      "execution_count": null,
      "outputs": []
    },
    {
      "cell_type": "markdown",
      "source": [
        "- After cleaning and transformations, the dataset is fully consistent and ready for exploratory analysis.\n",
        "- No missing or duplicate data.\n",
        "- Categorical columns optimized where appropriate.\n",
        "- Derived columns added for analysis convenience.\n",
        "\n",
        "> **Summary**: Dataset is now clean, structured, and ready for exploratory data analysis."
      ],
      "metadata": {
        "id": "aKOKDZvAk7q1"
      }
    },
    {
      "cell_type": "markdown",
      "source": [
        "## 3. Exploratory Data Analysis (EDA)\n",
        "\n",
        "In this section, we will explore the cleaned dataset to better understand its structure, distributions, and relationships between variables.\n",
        "\n",
        "Our goals are to:\n",
        "- Examine the distribution of the main metric (`ladder_score`).\n",
        "- Compare happiness across regions.\n",
        "- Analyze correlations between ladder score and other numerical variables.\n",
        "- Identify potential insights and patterns for further interpretation."
      ],
      "metadata": {
        "id": "A9V8dOUJJB9x"
      }
    },
    {
      "cell_type": "markdown",
      "source": [
        "### 3.1 Distribution of Ladder Score\n",
        "\n",
        "First, we examine the distribution of the happiness scores (`ladder_score`) across all countries."
      ],
      "metadata": {
        "id": "HdAHBfMvJCvy"
      }
    },
    {
      "cell_type": "code",
      "source": [
        "plt.figure()\n",
        "df_clean['ladder_score'].hist(bins=20, edgecolor='black')\n",
        "plt.title('Distribution of Ladder Score')\n",
        "plt.xlabel('Ladder Score')\n",
        "plt.ylabel('Number of Countries')\n",
        "plt.show()"
      ],
      "metadata": {
        "id": "WYmeM8iaJDkC"
      },
      "execution_count": null,
      "outputs": []
    },
    {
      "cell_type": "markdown",
      "source": [
        "The distribution of ladder scores is **left-skewed**, with most countries positioned in the middle-to-high range of happiness.  \n",
        "\n",
        "- There are **two clear peaks**: one around a score of 4.5 and another near 6.0, suggesting that many countries cluster around these levels.  \n",
        "- The lower end of the scale shows a **gap**, with very few countries scoring between 2.0 and 3.5.  \n",
        "- The overall spread is wide, ranging from approximately **1.8 to 8.0**, which highlights significant disparities in happiness across countries.  \n",
        "\n",
        "This pattern indicates that while extreme low scores are rare, countries tend to group around moderate to high levels of happiness, with only a handful reaching the very top of the scale."
      ],
      "metadata": {
        "id": "FyiAuo_pJDxy"
      }
    },
    {
      "cell_type": "markdown",
      "source": [
        "### 3.2 Happiness by Region\n",
        "\n",
        "We compare happiness scores across regions using a boxplot."
      ],
      "metadata": {
        "id": "nfisatyPPudN"
      }
    },
    {
      "cell_type": "code",
      "source": [
        "plt.figure()\n",
        "sns.boxplot(data=df_clean, x='regional_indicator', y='ladder_score')\n",
        "plt.xticks(rotation=45, ha='right')\n",
        "plt.title('Ladder Score by Region')\n",
        "plt.xlabel('Region')\n",
        "plt.ylabel('Ladder Score')\n",
        "plt.show()"
      ],
      "metadata": {
        "id": "Z_BMA8bwPySB"
      },
      "execution_count": null,
      "outputs": []
    },
    {
      "cell_type": "markdown",
      "source": [
        "The distribution of ladder scores varies considerably across regions, highlighting clear geographical differences in happiness.  \n",
        "\n",
        "- **Highest medians**:  \n",
        "  - *Western Europe* and *North America & ANZ* show the highest median happiness levels.  \n",
        "  - North America & ANZ also has the **lowest dispersion**, with consistently high scores across its countries.  \n",
        "  - The **highest ladder score overall** belongs to a country in Western Europe.  \n",
        "\n",
        "- **Lowest medians**:  \n",
        "  - *South Asia* and *Sub-Saharan Africa* present the lowest medians.  \n",
        "  - In South Asia, one country appears as a **low outlier**, with the lower whisker almost nonexistent.  \n",
        "  - Sub-Saharan Africa, on the other hand, shows more diversity, with its upper range nearly reaching the lower bound of Western Europe.  \n",
        "\n",
        "- **Highest variability**:  \n",
        "  - *Middle East & North Africa* displays the **widest spread**, ranging from very low scores (comparable to the lowest in South Asia and Sub-Saharan Africa) to very high scores, on par with the top countries in Western Europe and North America & ANZ.  \n",
        "\n",
        "Overall, these patterns emphasize that while some regions enjoy consistent levels of happiness, others face strong internal disparities, reflecting diverse economic, social, and political contexts."
      ],
      "metadata": {
        "id": "Wxdu8fjCS4us"
      }
    },
    {
      "cell_type": "markdown",
      "source": [
        "### 3.3 Average Ladder Score per Region\n",
        "\n",
        "For clearer comparisons, we compute the mean ladder score by region."
      ],
      "metadata": {
        "id": "Jy9bWavTTad6"
      }
    },
    {
      "cell_type": "code",
      "source": [
        "region_means = df_clean.groupby('regional_indicator')['ladder_score'].mean().sort_values(ascending=False)\n",
        "region_means"
      ],
      "metadata": {
        "id": "u69ouarLTcvg"
      },
      "execution_count": null,
      "outputs": []
    },
    {
      "cell_type": "code",
      "source": [
        "region_means.plot(kind='bar', edgecolor='black')\n",
        "plt.title('Average Ladder Score by Region')\n",
        "plt.ylabel('Average Ladder Score')\n",
        "plt.show()"
      ],
      "metadata": {
        "id": "662lRgdeTeGJ"
      },
      "execution_count": null,
      "outputs": []
    },
    {
      "cell_type": "markdown",
      "source": [
        "This chart reinforces the regional disparities already observed in the boxplot, while making the **ranking of regions more explicit**.  \n",
        "\n",
        "- **Lowest averages**:  \n",
        "  - *South Asia* and *Sub-Saharan Africa* record the lowest average ladder scores, confirming the consistent challenges to well-being in these areas.  \n",
        "\n",
        "- **Highest averages**:  \n",
        "  - *North America & ANZ* and *Western Europe* clearly stand out with the highest averages.  \n",
        "  - In this visualization, it becomes easier to identify that *North America & ANZ* ranks slightly higher than Western Europe in terms of average score.  \n"
      ],
      "metadata": {
        "id": "l0OqT6o3VUgY"
      }
    },
    {
      "cell_type": "markdown",
      "source": [
        "### 3.4 Correlation Analysis\n",
        "\n",
        "To understand which factors are most strongly associated with happiness, we analyze correlations."
      ],
      "metadata": {
        "id": "aLkwwu01Xh6D"
      }
    },
    {
      "cell_type": "code",
      "source": [
        "# Compute correlation matrix\n",
        "corr = df_clean.corr(numeric_only=True)\n",
        "\n",
        "plt.figure()\n",
        "sns.heatmap(corr, annot=True, cmap='coolwarm', fmt=\".2f\")\n",
        "plt.title('Correlation Heatmap')\n",
        "plt.show()"
      ],
      "metadata": {
        "id": "1J-mFzRlXkPa"
      },
      "execution_count": null,
      "outputs": []
    },
    {
      "cell_type": "markdown",
      "source": [
        "Before focusing directly on the variables most strongly associated with the *Ladder Score*, it is useful to highlight some broader patterns confirmed by the correlation matrix:\n",
        "\n",
        "- **Strong interrelations between explanatory factors**:  \n",
        "  - *GDP per Capita* shows a very strong correlation with *Healthy Life Expectancy* (**0.83**) and a strong correlation with *Social Support* (**0.73**).  \n",
        "  - This suggests that countries with higher GDP tend to provide both **better health conditions** and **more robust social support systems**.  \n",
        "\n",
        "We now turn to the **direct relationships with the Ladder Score**:\n",
        "\n",
        "- **Weaker relationships**:  \n",
        "  - *Generosity* displays the weakest correlation (**0.13**), indicating it plays a relatively minor role in explaining variations in perceived happiness.  \n",
        "  - *Perceptions of Corruption* (**0.45**) and *Freedom to Make Life Choices* (**0.64**) show moderate associations, suggesting that while they matter, their impact is less direct than economic and health-related factors.  \n",
        "\n",
        "- **Strongest drivers of happiness**:  \n",
        "  - The three factors most strongly correlated with *Ladder Score* are:  \n",
        "    - *Healthy Life Expectancy* (**0.81**)  \n",
        "    - *GDP per Capita* (**0.77**)\n",
        "    - *Social Support* (**0.76**)  \n",
        "\n",
        "These findings underline that **economic prosperity, health, and social connections are the strongest foundations of subjective well-being**, while cultural or moral dimensions such as generosity play a much smaller role."
      ],
      "metadata": {
        "id": "dHAVCaxxaBmr"
      }
    },
    {
      "cell_type": "markdown",
      "source": [
        "### 3.5 Ladder Score Categories (Qualitative Analysis)\n",
        "\n",
        "Using the categorical bins created earlier, we analyze the distribution of countries across happiness levels."
      ],
      "metadata": {
        "id": "PPztOGhfaxjA"
      }
    },
    {
      "cell_type": "code",
      "source": [
        "df_clean['ladder_score_category'].value_counts().sort_index().plot(\n",
        "    kind='bar', edgecolor='black'\n",
        ")\n",
        "plt.title('Number of Countries by Ladder Score Category')\n",
        "plt.xlabel('Category')\n",
        "plt.ylabel('Number of Countries')\n",
        "plt.show()"
      ],
      "metadata": {
        "id": "YdkUCT0Da0YO"
      },
      "execution_count": null,
      "outputs": []
    },
    {
      "cell_type": "markdown",
      "source": [
        "The categorical distribution of *Ladder Scores* reveals that:\n",
        "\n",
        "- The majority of countries fall within the **Medium** and **High** categories, with approximately **67** and **56 countries** respectively.  \n",
        "- The **Low** category includes around **16 countries**, while the **Very Low** group is represented by at least one country.  \n",
        "- Interestingly, **no country reaches the “Very High” category**, suggesting that while many nations achieve relatively good levels of happiness, none reaches the theoretical upper extreme of the scale.  \n",
        "\n",
        "Overall, this distribution indicates that **global happiness levels tend to cluster in the medium-to-high range**, with only a minority of countries falling significantly below this threshold."
      ],
      "metadata": {
        "id": "iVpE-ilVcu4_"
      }
    },
    {
      "cell_type": "markdown",
      "source": [
        "## 4. Conclusion and Insights\n",
        "\n",
        "The exploratory data analysis of the 2024 World Happiness Report has provided a comprehensive understanding of the factors influencing national well-being. The findings reveal a complex landscape where happiness is shaped by a mix of economic, social, and health-related variables.\n",
        "\n",
        "**Key Findings**:\n",
        "\n",
        "- **Bimodal Distribution**: The distribution of `ladder_scores` is not uniform. The presence of two distinct peaks suggests that countries tend to cluster around two different levels of happiness, rather than following a single linear trend. The noticeable gap at the lower end of the scale indicates that exceptionally low happiness scores are rare in the dataset.\n",
        "- **ignificant Regional Disparities**: Happiness levels vary considerably across regions. **Western Europe** and **North America & ANZ consistently** emerge with the highest median and mean scores, showing a strong and stable level of well-being. In contrast, **South Asia** and **Sub-Saharan Africa** report the lowest average scores, highlighting persistent challenges to happiness in these areas. The **Middle East & North Africa** region displays the highest internal variability, with countries at both ends of the happiness spectrum.\n",
        "- **Core Drivers of Happiness**: The correlation analysis confirmed that economic prosperity, health, and social connections are the most influential factors. `GDP per Capita`, `Healthy Life Expectancy`, and `Social Support` all show strong positive correlations with the `ladder_score`, underscoring their foundational role in a nation's well-being.\n",
        "- **Minor Influence of Other Factors**: Variables such as `Perceptions of Corruption` and `Freedom to Make Life Choices` have a moderate impact on happiness, while `Generosity` shows the weakest association. This suggests that while cultural and political factors are relevant, economic and social foundations have a more direct and powerful effect on a country's overall happiness score.\n",
        "- **No Country Reaches the Top Tier**: The qualitative analysis revealed that no country in the 2024 dataset achieved a `Very High` happiness score (a score of 8 or above). This suggests that while many nations have achieved significant levels of well-being, there is still room for improvement on a global scale.\n",
        "\n",
        "**Recommendations and Next Steps**:  \n",
        "\n",
        "This EDA has successfully identified key patterns and relationships within the dataset. Based on these insights, the next steps could include:\n",
        "\n",
        "1. **Predictive Modeling**: Building a regression model to predict a country's\n",
        "`ladder_score` based on the most correlated variables. This would quantify the precise contribution of each factor and provide a tool for forecasting.\n",
        "2. **Outlier Analysis**: A deeper investigation into the outlier country in the South Asia region to understand the specific circumstances that contribute to its exceptionally low score.\n",
        "3. **Temporal Analysis**: Expanding the project to include data from multiple years to perform a time-series analysis, examining how happiness scores and their drivers have changed over time.\n",
        "\n",
        "In conclusion, this project provides a clear, evidence-based overview of global happiness in 2024, emphasizing the crucial link between a nation's economic health, social fabric, and the well-being of its citizens."
      ],
      "metadata": {
        "id": "8KigDCPE_3wT"
      }
    }
  ]
}